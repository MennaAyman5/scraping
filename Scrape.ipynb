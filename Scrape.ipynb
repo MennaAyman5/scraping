{
  "nbformat": 4,
  "nbformat_minor": 0,
  "metadata": {
    "colab": {
      "provenance": [],
      "authorship_tag": "ABX9TyPj+TPov4t8t0XXrUcNYvOq",
      "include_colab_link": true
    },
    "kernelspec": {
      "name": "python3",
      "display_name": "Python 3"
    },
    "language_info": {
      "name": "python"
    }
  },
  "cells": [
    {
      "cell_type": "markdown",
      "metadata": {
        "id": "view-in-github",
        "colab_type": "text"
      },
      "source": [
        "<a href=\"https://colab.research.google.com/github/MennaAyman5/scraping/blob/main/Scrape.ipynb\" target=\"_parent\"><img src=\"https://colab.research.google.com/assets/colab-badge.svg\" alt=\"Open In Colab\"/></a>"
      ]
    },
    {
      "cell_type": "code",
      "execution_count": 19,
      "metadata": {
        "colab": {
          "base_uri": "https://localhost:8080/"
        },
        "id": "pu9WPK3o1SHz",
        "outputId": "2af9ccbb-8a6c-4c94-d09c-957d898ba5a9"
      },
      "outputs": [
        {
          "output_type": "stream",
          "name": "stdout",
          "text": [
            "Data exported to CSV file successfully!\n"
          ]
        }
      ],
      "source": [
        "import requests\n",
        "from bs4 import BeautifulSoup\n",
        "import csv\n",
        "\n",
        "# Define the URL we want to scrape\n",
        "url = 'https://wuzzuf.net/search/jobs/?q=data+analyst&a=navbl'\n",
        "\n",
        "# Send a GET request to the URL\n",
        "response = requests.get(url)\n",
        "\n",
        "# Parse the HTML content of the page using BeautifulSoup\n",
        "soup = BeautifulSoup(response.content, 'html.parser')\n",
        "\n",
        "# Find all the job postings on the page\n",
        "job_postings = soup.find_all('div', {'class': 'css-pkv5jc'})\n",
        "\n",
        "# Open a CSV file to write the data\n",
        "with open('jobs.csv', mode='w', newline='', encoding='utf-8') as file:\n",
        "    writer = csv.writer(file)\n",
        "    \n",
        "    # Write the header row\n",
        "    writer.writerow(['Title', 'Job Type', 'Skills', 'Company Location', 'Company Name', 'Time'])\n",
        "    \n",
        "    # Loop through each job posting and extract the information\n",
        "    for job in job_postings:\n",
        "        title = job.find('h2', {'class': 'css-m604qf'}).text.strip()\n",
        "        job_type = job.find('span', {'class': 'css-1ve4b75 eoyjyou0'}).text.strip()\n",
        "        skills = [skill.text.strip() for skill in job.find_all('a', {'class': 'css-o171kl'})]\n",
        "        company_location = job.find('span', {'class': 'css-5wys0k'}).text.strip()\n",
        "        company_name = job.find('a', {'class': 'css-17s97q8'}).text.strip()\n",
        "        time = job.find('div', {'class': ['css-do6t5g' , 'css-4c4ojb']}).text.strip()\n",
        "\n",
        "\n",
        "        # Write the data to the CSV file\n",
        "        writer.writerow([title, job_type, \", \".join(skills), company_location, company_name, time])\n",
        "        \n",
        "print('Data exported to CSV file successfully!')\n"
      ]
    },
    {
      "cell_type": "code",
      "source": [],
      "metadata": {
        "id": "bkmzsjxf1YSQ"
      },
      "execution_count": null,
      "outputs": []
    }
  ]
}